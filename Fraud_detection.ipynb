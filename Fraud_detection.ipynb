{
  "nbformat": 4,
  "nbformat_minor": 0,
  "metadata": {
    "colab": {
      "name": "Untitled0.ipynb",
      "provenance": []
    },
    "kernelspec": {
      "name": "python3",
      "display_name": "Python 3"
    },
    "language_info": {
      "name": "python"
    }
  },
  "cells": [
    {
      "cell_type": "markdown",
      "source": [
        "About this file\n",
        "Training set for Credit Card Transactions\n",
        "\n",
        "index - Unique Identifier for each row\n",
        "\n",
        "transdatetrans_time - Transaction DateTime\n",
        "\n",
        "cc_num - Credit Card Number of Customer\n",
        "\n",
        "merchant - Merchant Name\n",
        "\n",
        "category - Category of Merchant\n",
        "\n",
        "amt - Amount of Transaction\n",
        "\n",
        "first - First Name of Credit Card Holder\n",
        "\n",
        "last - Last Name of Credit Card Holder\n",
        "\n",
        "gender - Gender of Credit Card Holder\n",
        "\n",
        "street - Street Address of Credit Card Holder\n",
        "\n",
        "city - City of Credit Card Holder\n",
        "\n",
        "state - State of Credit Card Holder\n",
        "\n",
        "zip - Zip of Credit Card Holder\n",
        "\n",
        "lat - Latitude Location of Credit Card Holder\n",
        "\n",
        "long - Longitude Location of Credit Card Holder\n",
        "\n",
        "city_pop - Credit Card Holder's City Population\n",
        "\n",
        "job - Job of Credit Card Holder\n",
        "\n",
        "dob - Date of Birth of Credit Card Holder\n",
        "\n",
        "trans_num - Transaction Number\n",
        "\n",
        "unix_time - UNIX Time of transaction\n",
        "\n",
        "merch_lat - Latitude Location of Merchant\n",
        "\n",
        "merch_long - Longitude Location of Merchant\n",
        "\n",
        "is_fraud - Fraud Flag <--- Target Class"
      ],
      "metadata": {
        "id": "w16Df8-sXeuE"
      }
    },
    {
      "cell_type": "code",
      "execution_count": 1,
      "metadata": {
        "colab": {
          "base_uri": "https://localhost:8080/"
        },
        "id": "kvIgU9NqhVKR",
        "outputId": "f430ccda-7777-407e-8270-3baa71ddc322"
      },
      "outputs": [
        {
          "output_type": "stream",
          "name": "stdout",
          "text": [
            "Mounted at /content/drive\n"
          ]
        }
      ],
      "source": [
        "from google.colab import drive\n",
        "drive.mount('/content/drive')"
      ]
    },
    {
      "cell_type": "code",
      "source": [
        "#Librerias para EDA\n",
        "import pandas as pd\n",
        "import numpy as np\n",
        "import matplotlib.pyplot as plt\n",
        "import seaborn as sns"
      ],
      "metadata": {
        "id": "Y2H0ARjej07l"
      },
      "execution_count": 2,
      "outputs": []
    },
    {
      "cell_type": "code",
      "source": [
        "#Cargar conjunto de datos\n",
        "filename =('/content/drive/MyDrive/CODING DOJO/Códigos/Proyecto 2/fraudTrain.csv')\n",
        "filename2=('/content/drive/MyDrive/CODING DOJO/Códigos/Proyecto 2/fraudTest.csv')\n",
        "train = pd.read_csv(filename, sep=',')\n",
        "test = pd.read_csv(filename, sep=',')"
      ],
      "metadata": {
        "id": "R7POjqJ8jhZL"
      },
      "execution_count": 3,
      "outputs": []
    },
    {
      "cell_type": "code",
      "source": [
        "#Analizar la base de entrenamiento\n",
        "train.info()"
      ],
      "metadata": {
        "colab": {
          "base_uri": "https://localhost:8080/"
        },
        "id": "9nnHNMjTkonx",
        "outputId": "5b18d261-4a82-4be6-afb1-57d3d2a8b5c2"
      },
      "execution_count": 4,
      "outputs": [
        {
          "output_type": "stream",
          "name": "stdout",
          "text": [
            "<class 'pandas.core.frame.DataFrame'>\n",
            "RangeIndex: 1296675 entries, 0 to 1296674\n",
            "Data columns (total 23 columns):\n",
            " #   Column                 Non-Null Count    Dtype  \n",
            "---  ------                 --------------    -----  \n",
            " 0   Unnamed: 0             1296675 non-null  int64  \n",
            " 1   trans_date_trans_time  1296675 non-null  object \n",
            " 2   cc_num                 1296675 non-null  int64  \n",
            " 3   merchant               1296675 non-null  object \n",
            " 4   category               1296675 non-null  object \n",
            " 5   amt                    1296675 non-null  float64\n",
            " 6   first                  1296675 non-null  object \n",
            " 7   last                   1296675 non-null  object \n",
            " 8   gender                 1296675 non-null  object \n",
            " 9   street                 1296675 non-null  object \n",
            " 10  city                   1296675 non-null  object \n",
            " 11  state                  1296675 non-null  object \n",
            " 12  zip                    1296675 non-null  int64  \n",
            " 13  lat                    1296675 non-null  float64\n",
            " 14  long                   1296675 non-null  float64\n",
            " 15  city_pop               1296675 non-null  int64  \n",
            " 16  job                    1296675 non-null  object \n",
            " 17  dob                    1296675 non-null  object \n",
            " 18  trans_num              1296675 non-null  object \n",
            " 19  unix_time              1296675 non-null  int64  \n",
            " 20  merch_lat              1296675 non-null  float64\n",
            " 21  merch_long             1296675 non-null  float64\n",
            " 22  is_fraud               1296675 non-null  int64  \n",
            "dtypes: float64(5), int64(6), object(12)\n",
            "memory usage: 227.5+ MB\n"
          ]
        }
      ]
    },
    {
      "cell_type": "code",
      "source": [
        "train.head()"
      ],
      "metadata": {
        "colab": {
          "base_uri": "https://localhost:8080/",
          "height": 557
        },
        "id": "xNKOhoM0ksSZ",
        "outputId": "6b629254-515f-4a2d-a616-8e65dda3ecd9"
      },
      "execution_count": 5,
      "outputs": [
        {
          "output_type": "execute_result",
          "data": {
            "text/html": [
              "\n",
              "  <div id=\"df-050df966-ee57-421e-8a0c-d884f46ec438\">\n",
              "    <div class=\"colab-df-container\">\n",
              "      <div>\n",
              "<style scoped>\n",
              "    .dataframe tbody tr th:only-of-type {\n",
              "        vertical-align: middle;\n",
              "    }\n",
              "\n",
              "    .dataframe tbody tr th {\n",
              "        vertical-align: top;\n",
              "    }\n",
              "\n",
              "    .dataframe thead th {\n",
              "        text-align: right;\n",
              "    }\n",
              "</style>\n",
              "<table border=\"1\" class=\"dataframe\">\n",
              "  <thead>\n",
              "    <tr style=\"text-align: right;\">\n",
              "      <th></th>\n",
              "      <th>Unnamed: 0</th>\n",
              "      <th>trans_date_trans_time</th>\n",
              "      <th>cc_num</th>\n",
              "      <th>merchant</th>\n",
              "      <th>category</th>\n",
              "      <th>amt</th>\n",
              "      <th>first</th>\n",
              "      <th>last</th>\n",
              "      <th>gender</th>\n",
              "      <th>street</th>\n",
              "      <th>city</th>\n",
              "      <th>state</th>\n",
              "      <th>zip</th>\n",
              "      <th>lat</th>\n",
              "      <th>long</th>\n",
              "      <th>city_pop</th>\n",
              "      <th>job</th>\n",
              "      <th>dob</th>\n",
              "      <th>trans_num</th>\n",
              "      <th>unix_time</th>\n",
              "      <th>merch_lat</th>\n",
              "      <th>merch_long</th>\n",
              "      <th>is_fraud</th>\n",
              "    </tr>\n",
              "  </thead>\n",
              "  <tbody>\n",
              "    <tr>\n",
              "      <th>0</th>\n",
              "      <td>0</td>\n",
              "      <td>2019-01-01 00:00:18</td>\n",
              "      <td>2703186189652095</td>\n",
              "      <td>fraud_Rippin, Kub and Mann</td>\n",
              "      <td>misc_net</td>\n",
              "      <td>4.97</td>\n",
              "      <td>Jennifer</td>\n",
              "      <td>Banks</td>\n",
              "      <td>F</td>\n",
              "      <td>561 Perry Cove</td>\n",
              "      <td>Moravian Falls</td>\n",
              "      <td>NC</td>\n",
              "      <td>28654</td>\n",
              "      <td>36.0788</td>\n",
              "      <td>-81.1781</td>\n",
              "      <td>3495</td>\n",
              "      <td>Psychologist, counselling</td>\n",
              "      <td>1988-03-09</td>\n",
              "      <td>0b242abb623afc578575680df30655b9</td>\n",
              "      <td>1325376018</td>\n",
              "      <td>36.011293</td>\n",
              "      <td>-82.048315</td>\n",
              "      <td>0</td>\n",
              "    </tr>\n",
              "    <tr>\n",
              "      <th>1</th>\n",
              "      <td>1</td>\n",
              "      <td>2019-01-01 00:00:44</td>\n",
              "      <td>630423337322</td>\n",
              "      <td>fraud_Heller, Gutmann and Zieme</td>\n",
              "      <td>grocery_pos</td>\n",
              "      <td>107.23</td>\n",
              "      <td>Stephanie</td>\n",
              "      <td>Gill</td>\n",
              "      <td>F</td>\n",
              "      <td>43039 Riley Greens Suite 393</td>\n",
              "      <td>Orient</td>\n",
              "      <td>WA</td>\n",
              "      <td>99160</td>\n",
              "      <td>48.8878</td>\n",
              "      <td>-118.2105</td>\n",
              "      <td>149</td>\n",
              "      <td>Special educational needs teacher</td>\n",
              "      <td>1978-06-21</td>\n",
              "      <td>1f76529f8574734946361c461b024d99</td>\n",
              "      <td>1325376044</td>\n",
              "      <td>49.159047</td>\n",
              "      <td>-118.186462</td>\n",
              "      <td>0</td>\n",
              "    </tr>\n",
              "    <tr>\n",
              "      <th>2</th>\n",
              "      <td>2</td>\n",
              "      <td>2019-01-01 00:00:51</td>\n",
              "      <td>38859492057661</td>\n",
              "      <td>fraud_Lind-Buckridge</td>\n",
              "      <td>entertainment</td>\n",
              "      <td>220.11</td>\n",
              "      <td>Edward</td>\n",
              "      <td>Sanchez</td>\n",
              "      <td>M</td>\n",
              "      <td>594 White Dale Suite 530</td>\n",
              "      <td>Malad City</td>\n",
              "      <td>ID</td>\n",
              "      <td>83252</td>\n",
              "      <td>42.1808</td>\n",
              "      <td>-112.2620</td>\n",
              "      <td>4154</td>\n",
              "      <td>Nature conservation officer</td>\n",
              "      <td>1962-01-19</td>\n",
              "      <td>a1a22d70485983eac12b5b88dad1cf95</td>\n",
              "      <td>1325376051</td>\n",
              "      <td>43.150704</td>\n",
              "      <td>-112.154481</td>\n",
              "      <td>0</td>\n",
              "    </tr>\n",
              "    <tr>\n",
              "      <th>3</th>\n",
              "      <td>3</td>\n",
              "      <td>2019-01-01 00:01:16</td>\n",
              "      <td>3534093764340240</td>\n",
              "      <td>fraud_Kutch, Hermiston and Farrell</td>\n",
              "      <td>gas_transport</td>\n",
              "      <td>45.00</td>\n",
              "      <td>Jeremy</td>\n",
              "      <td>White</td>\n",
              "      <td>M</td>\n",
              "      <td>9443 Cynthia Court Apt. 038</td>\n",
              "      <td>Boulder</td>\n",
              "      <td>MT</td>\n",
              "      <td>59632</td>\n",
              "      <td>46.2306</td>\n",
              "      <td>-112.1138</td>\n",
              "      <td>1939</td>\n",
              "      <td>Patent attorney</td>\n",
              "      <td>1967-01-12</td>\n",
              "      <td>6b849c168bdad6f867558c3793159a81</td>\n",
              "      <td>1325376076</td>\n",
              "      <td>47.034331</td>\n",
              "      <td>-112.561071</td>\n",
              "      <td>0</td>\n",
              "    </tr>\n",
              "    <tr>\n",
              "      <th>4</th>\n",
              "      <td>4</td>\n",
              "      <td>2019-01-01 00:03:06</td>\n",
              "      <td>375534208663984</td>\n",
              "      <td>fraud_Keeling-Crist</td>\n",
              "      <td>misc_pos</td>\n",
              "      <td>41.96</td>\n",
              "      <td>Tyler</td>\n",
              "      <td>Garcia</td>\n",
              "      <td>M</td>\n",
              "      <td>408 Bradley Rest</td>\n",
              "      <td>Doe Hill</td>\n",
              "      <td>VA</td>\n",
              "      <td>24433</td>\n",
              "      <td>38.4207</td>\n",
              "      <td>-79.4629</td>\n",
              "      <td>99</td>\n",
              "      <td>Dance movement psychotherapist</td>\n",
              "      <td>1986-03-28</td>\n",
              "      <td>a41d7549acf90789359a9aa5346dcb46</td>\n",
              "      <td>1325376186</td>\n",
              "      <td>38.674999</td>\n",
              "      <td>-78.632459</td>\n",
              "      <td>0</td>\n",
              "    </tr>\n",
              "  </tbody>\n",
              "</table>\n",
              "</div>\n",
              "      <button class=\"colab-df-convert\" onclick=\"convertToInteractive('df-050df966-ee57-421e-8a0c-d884f46ec438')\"\n",
              "              title=\"Convert this dataframe to an interactive table.\"\n",
              "              style=\"display:none;\">\n",
              "        \n",
              "  <svg xmlns=\"http://www.w3.org/2000/svg\" height=\"24px\"viewBox=\"0 0 24 24\"\n",
              "       width=\"24px\">\n",
              "    <path d=\"M0 0h24v24H0V0z\" fill=\"none\"/>\n",
              "    <path d=\"M18.56 5.44l.94 2.06.94-2.06 2.06-.94-2.06-.94-.94-2.06-.94 2.06-2.06.94zm-11 1L8.5 8.5l.94-2.06 2.06-.94-2.06-.94L8.5 2.5l-.94 2.06-2.06.94zm10 10l.94 2.06.94-2.06 2.06-.94-2.06-.94-.94-2.06-.94 2.06-2.06.94z\"/><path d=\"M17.41 7.96l-1.37-1.37c-.4-.4-.92-.59-1.43-.59-.52 0-1.04.2-1.43.59L10.3 9.45l-7.72 7.72c-.78.78-.78 2.05 0 2.83L4 21.41c.39.39.9.59 1.41.59.51 0 1.02-.2 1.41-.59l7.78-7.78 2.81-2.81c.8-.78.8-2.07 0-2.86zM5.41 20L4 18.59l7.72-7.72 1.47 1.35L5.41 20z\"/>\n",
              "  </svg>\n",
              "      </button>\n",
              "      \n",
              "  <style>\n",
              "    .colab-df-container {\n",
              "      display:flex;\n",
              "      flex-wrap:wrap;\n",
              "      gap: 12px;\n",
              "    }\n",
              "\n",
              "    .colab-df-convert {\n",
              "      background-color: #E8F0FE;\n",
              "      border: none;\n",
              "      border-radius: 50%;\n",
              "      cursor: pointer;\n",
              "      display: none;\n",
              "      fill: #1967D2;\n",
              "      height: 32px;\n",
              "      padding: 0 0 0 0;\n",
              "      width: 32px;\n",
              "    }\n",
              "\n",
              "    .colab-df-convert:hover {\n",
              "      background-color: #E2EBFA;\n",
              "      box-shadow: 0px 1px 2px rgba(60, 64, 67, 0.3), 0px 1px 3px 1px rgba(60, 64, 67, 0.15);\n",
              "      fill: #174EA6;\n",
              "    }\n",
              "\n",
              "    [theme=dark] .colab-df-convert {\n",
              "      background-color: #3B4455;\n",
              "      fill: #D2E3FC;\n",
              "    }\n",
              "\n",
              "    [theme=dark] .colab-df-convert:hover {\n",
              "      background-color: #434B5C;\n",
              "      box-shadow: 0px 1px 3px 1px rgba(0, 0, 0, 0.15);\n",
              "      filter: drop-shadow(0px 1px 2px rgba(0, 0, 0, 0.3));\n",
              "      fill: #FFFFFF;\n",
              "    }\n",
              "  </style>\n",
              "\n",
              "      <script>\n",
              "        const buttonEl =\n",
              "          document.querySelector('#df-050df966-ee57-421e-8a0c-d884f46ec438 button.colab-df-convert');\n",
              "        buttonEl.style.display =\n",
              "          google.colab.kernel.accessAllowed ? 'block' : 'none';\n",
              "\n",
              "        async function convertToInteractive(key) {\n",
              "          const element = document.querySelector('#df-050df966-ee57-421e-8a0c-d884f46ec438');\n",
              "          const dataTable =\n",
              "            await google.colab.kernel.invokeFunction('convertToInteractive',\n",
              "                                                     [key], {});\n",
              "          if (!dataTable) return;\n",
              "\n",
              "          const docLinkHtml = 'Like what you see? Visit the ' +\n",
              "            '<a target=\"_blank\" href=https://colab.research.google.com/notebooks/data_table.ipynb>data table notebook</a>'\n",
              "            + ' to learn more about interactive tables.';\n",
              "          element.innerHTML = '';\n",
              "          dataTable['output_type'] = 'display_data';\n",
              "          await google.colab.output.renderOutput(dataTable, element);\n",
              "          const docLink = document.createElement('div');\n",
              "          docLink.innerHTML = docLinkHtml;\n",
              "          element.appendChild(docLink);\n",
              "        }\n",
              "      </script>\n",
              "    </div>\n",
              "  </div>\n",
              "  "
            ],
            "text/plain": [
              "   Unnamed: 0 trans_date_trans_time  ...  merch_long is_fraud\n",
              "0           0   2019-01-01 00:00:18  ...  -82.048315        0\n",
              "1           1   2019-01-01 00:00:44  ... -118.186462        0\n",
              "2           2   2019-01-01 00:00:51  ... -112.154481        0\n",
              "3           3   2019-01-01 00:01:16  ... -112.561071        0\n",
              "4           4   2019-01-01 00:03:06  ...  -78.632459        0\n",
              "\n",
              "[5 rows x 23 columns]"
            ]
          },
          "metadata": {},
          "execution_count": 5
        }
      ]
    },
    {
      "cell_type": "code",
      "source": [
        "train.nunique()"
      ],
      "metadata": {
        "colab": {
          "base_uri": "https://localhost:8080/"
        },
        "id": "mtT6I3PNbUjj",
        "outputId": "52b4e0da-7053-430d-8015-186a268e943b"
      },
      "execution_count": 6,
      "outputs": [
        {
          "output_type": "execute_result",
          "data": {
            "text/plain": [
              "Unnamed: 0               1296675\n",
              "trans_date_trans_time    1274791\n",
              "cc_num                       983\n",
              "merchant                     693\n",
              "category                      14\n",
              "amt                        52928\n",
              "first                        352\n",
              "last                         481\n",
              "gender                         2\n",
              "street                       983\n",
              "city                         894\n",
              "state                         51\n",
              "zip                          970\n",
              "lat                          968\n",
              "long                         969\n",
              "city_pop                     879\n",
              "job                          494\n",
              "dob                          968\n",
              "trans_num                1296675\n",
              "unix_time                1274823\n",
              "merch_lat                1247805\n",
              "merch_long               1275745\n",
              "is_fraud                       2\n",
              "dtype: int64"
            ]
          },
          "metadata": {},
          "execution_count": 6
        }
      ]
    },
    {
      "cell_type": "code",
      "source": [
        "sns.histplot(train['is_fraud'])"
      ],
      "metadata": {
        "colab": {
          "base_uri": "https://localhost:8080/",
          "height": 308
        },
        "id": "DwFmNMTck6Cg",
        "outputId": "4be07e33-fbae-4165-c9c0-75f5a0fabf23"
      },
      "execution_count": 7,
      "outputs": [
        {
          "output_type": "execute_result",
          "data": {
            "text/plain": [
              "<matplotlib.axes._subplots.AxesSubplot at 0x7f2795b2f250>"
            ]
          },
          "metadata": {},
          "execution_count": 7
        },
        {
          "output_type": "display_data",
          "data": {
            "image/png": "[encoded data removed]",
            "text/plain": [
              "<Figure size 432x288 with 1 Axes>"
            ]
          },
          "metadata": {
            "needs_background": "light"
          }
        }
      ]
    },
    {
      "cell_type": "code",
      "source": [
        "#Analizar cuantos casos de fraude existe en la base de entrenamiento\n",
        "print(train['is_fraud'].value_counts()/len(train))\n",
        "print(train['is_fraud'].value_counts())"
      ],
      "metadata": {
        "colab": {
          "base_uri": "https://localhost:8080/"
        },
        "id": "tGm3f0Y8sV_J",
        "outputId": "2480dbbc-32b9-4b13-ac14-9053159c417f"
      },
      "execution_count": 8,
      "outputs": [
        {
          "output_type": "stream",
          "name": "stdout",
          "text": [
            "0    0.994211\n",
            "1    0.005789\n",
            "Name: is_fraud, dtype: float64\n",
            "0    1289169\n",
            "1       7506\n",
            "Name: is_fraud, dtype: int64\n"
          ]
        }
      ]
    },
    {
      "cell_type": "code",
      "source": [
        "#Analizar variable numéricas\n",
        "numerical = train.dtypes != object\n",
        "num_cols = train.loc[:, numerical[numerical == True].keys()]\n",
        "num_cols.hist(figsize = (30,15), layout = (3,4))\n",
        "plt.show()"
      ],
      "metadata": {
        "colab": {
          "base_uri": "https://localhost:8080/",
          "height": 592
        },
        "id": "oZ0Xd25Vs6GM",
        "outputId": "a73ae01a-e0ea-40c9-aa73-aaa010617cc0"
      },
      "execution_count": 9,
      "outputs": [
        {
          "output_type": "display_data",
          "data": {
            "image/png": "[encoded data removed]",
            "text/plain": [
              "<Figure size 2160x1080 with 12 Axes>"
            ]
          },
          "metadata": {
            "needs_background": "light"
          }
        }
      ]
    },
    {
      "cell_type": "code",
      "source": [
        "#eliminar columna Unnamed\n",
        "train.drop('Unnamed: 0',axis=1,inplace=True)"
      ],
      "metadata": {
        "id": "lPV-SE5TwCt6"
      },
      "execution_count": 10,
      "outputs": []
    },
    {
      "cell_type": "code",
      "source": [
        "train.describe()"
      ],
      "metadata": {
        "colab": {
          "base_uri": "https://localhost:8080/",
          "height": 297
        },
        "id": "dB6oM88KwOoe",
        "outputId": "6976f4f1-3008-4629-a41f-c7346efdf0d6"
      },
      "execution_count": 11,
      "outputs": [
        {
          "output_type": "execute_result",
          "data": {
            "text/html": [
              "\n",
              "  <div id=\"df-a48da8a5-7fce-4937-bd56-07c2f7d450c4\">\n",
              "    <div class=\"colab-df-container\">\n",
              "      <div>\n",
              "<style scoped>\n",
              "    .dataframe tbody tr th:only-of-type {\n",
              "        vertical-align: middle;\n",
              "    }\n",
              "\n",
              "    .dataframe tbody tr th {\n",
              "        vertical-align: top;\n",
              "    }\n",
              "\n",
              "    .dataframe thead th {\n",
              "        text-align: right;\n",
              "    }\n",
              "</style>\n",
              "<table border=\"1\" class=\"dataframe\">\n",
              "  <thead>\n",
              "    <tr style=\"text-align: right;\">\n",
              "      <th></th>\n",
              "      <th>cc_num</th>\n",
              "      <th>amt</th>\n",
              "      <th>zip</th>\n",
              "      <th>lat</th>\n",
              "      <th>long</th>\n",
              "      <th>city_pop</th>\n",
              "      <th>unix_time</th>\n",
              "      <th>merch_lat</th>\n",
              "      <th>merch_long</th>\n",
              "      <th>is_fraud</th>\n",
              "    </tr>\n",
              "  </thead>\n",
              "  <tbody>\n",
              "    <tr>\n",
              "      <th>count</th>\n",
              "      <td>1.296675e+06</td>\n",
              "      <td>1.296675e+06</td>\n",
              "      <td>1.296675e+06</td>\n",
              "      <td>1.296675e+06</td>\n",
              "      <td>1.296675e+06</td>\n",
              "      <td>1.296675e+06</td>\n",
              "      <td>1.296675e+06</td>\n",
              "      <td>1.296675e+06</td>\n",
              "      <td>1.296675e+06</td>\n",
              "      <td>1.296675e+06</td>\n",
              "    </tr>\n",
              "    <tr>\n",
              "      <th>mean</th>\n",
              "      <td>4.171920e+17</td>\n",
              "      <td>7.035104e+01</td>\n",
              "      <td>4.880067e+04</td>\n",
              "      <td>3.853762e+01</td>\n",
              "      <td>-9.022634e+01</td>\n",
              "      <td>8.882444e+04</td>\n",
              "      <td>1.349244e+09</td>\n",
              "      <td>3.853734e+01</td>\n",
              "      <td>-9.022646e+01</td>\n",
              "      <td>5.788652e-03</td>\n",
              "    </tr>\n",
              "    <tr>\n",
              "      <th>std</th>\n",
              "      <td>1.308806e+18</td>\n",
              "      <td>1.603160e+02</td>\n",
              "      <td>2.689322e+04</td>\n",
              "      <td>5.075808e+00</td>\n",
              "      <td>1.375908e+01</td>\n",
              "      <td>3.019564e+05</td>\n",
              "      <td>1.284128e+07</td>\n",
              "      <td>5.109788e+00</td>\n",
              "      <td>1.377109e+01</td>\n",
              "      <td>7.586269e-02</td>\n",
              "    </tr>\n",
              "    <tr>\n",
              "      <th>min</th>\n",
              "      <td>6.041621e+10</td>\n",
              "      <td>1.000000e+00</td>\n",
              "      <td>1.257000e+03</td>\n",
              "      <td>2.002710e+01</td>\n",
              "      <td>-1.656723e+02</td>\n",
              "      <td>2.300000e+01</td>\n",
              "      <td>1.325376e+09</td>\n",
              "      <td>1.902779e+01</td>\n",
              "      <td>-1.666712e+02</td>\n",
              "      <td>0.000000e+00</td>\n",
              "    </tr>\n",
              "    <tr>\n",
              "      <th>25%</th>\n",
              "      <td>1.800429e+14</td>\n",
              "      <td>9.650000e+00</td>\n",
              "      <td>2.623700e+04</td>\n",
              "      <td>3.462050e+01</td>\n",
              "      <td>-9.679800e+01</td>\n",
              "      <td>7.430000e+02</td>\n",
              "      <td>1.338751e+09</td>\n",
              "      <td>3.473357e+01</td>\n",
              "      <td>-9.689728e+01</td>\n",
              "      <td>0.000000e+00</td>\n",
              "    </tr>\n",
              "    <tr>\n",
              "      <th>50%</th>\n",
              "      <td>3.521417e+15</td>\n",
              "      <td>4.752000e+01</td>\n",
              "      <td>4.817400e+04</td>\n",
              "      <td>3.935430e+01</td>\n",
              "      <td>-8.747690e+01</td>\n",
              "      <td>2.456000e+03</td>\n",
              "      <td>1.349250e+09</td>\n",
              "      <td>3.936568e+01</td>\n",
              "      <td>-8.743839e+01</td>\n",
              "      <td>0.000000e+00</td>\n",
              "    </tr>\n",
              "    <tr>\n",
              "      <th>75%</th>\n",
              "      <td>4.642255e+15</td>\n",
              "      <td>8.314000e+01</td>\n",
              "      <td>7.204200e+04</td>\n",
              "      <td>4.194040e+01</td>\n",
              "      <td>-8.015800e+01</td>\n",
              "      <td>2.032800e+04</td>\n",
              "      <td>1.359385e+09</td>\n",
              "      <td>4.195716e+01</td>\n",
              "      <td>-8.023680e+01</td>\n",
              "      <td>0.000000e+00</td>\n",
              "    </tr>\n",
              "    <tr>\n",
              "      <th>max</th>\n",
              "      <td>4.992346e+18</td>\n",
              "      <td>2.894890e+04</td>\n",
              "      <td>9.978300e+04</td>\n",
              "      <td>6.669330e+01</td>\n",
              "      <td>-6.795030e+01</td>\n",
              "      <td>2.906700e+06</td>\n",
              "      <td>1.371817e+09</td>\n",
              "      <td>6.751027e+01</td>\n",
              "      <td>-6.695090e+01</td>\n",
              "      <td>1.000000e+00</td>\n",
              "    </tr>\n",
              "  </tbody>\n",
              "</table>\n",
              "</div>\n",
              "      <button class=\"colab-df-convert\" onclick=\"convertToInteractive('df-a48da8a5-7fce-4937-bd56-07c2f7d450c4')\"\n",
              "              title=\"Convert this dataframe to an interactive table.\"\n",
              "              style=\"display:none;\">\n",
              "        \n",
              "  <svg xmlns=\"http://www.w3.org/2000/svg\" height=\"24px\"viewBox=\"0 0 24 24\"\n",
              "       width=\"24px\">\n",
              "    <path d=\"M0 0h24v24H0V0z\" fill=\"none\"/>\n",
              "    <path d=\"M18.56 5.44l.94 2.06.94-2.06 2.06-.94-2.06-.94-.94-2.06-.94 2.06-2.06.94zm-11 1L8.5 8.5l.94-2.06 2.06-.94-2.06-.94L8.5 2.5l-.94 2.06-2.06.94zm10 10l.94 2.06.94-2.06 2.06-.94-2.06-.94-.94-2.06-.94 2.06-2.06.94z\"/><path d=\"M17.41 7.96l-1.37-1.37c-.4-.4-.92-.59-1.43-.59-.52 0-1.04.2-1.43.59L10.3 9.45l-7.72 7.72c-.78.78-.78 2.05 0 2.83L4 21.41c.39.39.9.59 1.41.59.51 0 1.02-.2 1.41-.59l7.78-7.78 2.81-2.81c.8-.78.8-2.07 0-2.86zM5.41 20L4 18.59l7.72-7.72 1.47 1.35L5.41 20z\"/>\n",
              "  </svg>\n",
              "      </button>\n",
              "      \n",
              "  <style>\n",
              "    .colab-df-container {\n",
              "      display:flex;\n",
              "      flex-wrap:wrap;\n",
              "      gap: 12px;\n",
              "    }\n",
              "\n",
              "    .colab-df-convert {\n",
              "      background-color: #E8F0FE;\n",
              "      border: none;\n",
              "      border-radius: 50%;\n",
              "      cursor: pointer;\n",
              "      display: none;\n",
              "      fill: #1967D2;\n",
              "      height: 32px;\n",
              "      padding: 0 0 0 0;\n",
              "      width: 32px;\n",
              "    }\n",
              "\n",
              "    .colab-df-convert:hover {\n",
              "      background-color: #E2EBFA;\n",
              "      box-shadow: 0px 1px 2px rgba(60, 64, 67, 0.3), 0px 1px 3px 1px rgba(60, 64, 67, 0.15);\n",
              "      fill: #174EA6;\n",
              "    }\n",
              "\n",
              "    [theme=dark] .colab-df-convert {\n",
              "      background-color: #3B4455;\n",
              "      fill: #D2E3FC;\n",
              "    }\n",
              "\n",
              "    [theme=dark] .colab-df-convert:hover {\n",
              "      background-color: #434B5C;\n",
              "      box-shadow: 0px 1px 3px 1px rgba(0, 0, 0, 0.15);\n",
              "      filter: drop-shadow(0px 1px 2px rgba(0, 0, 0, 0.3));\n",
              "      fill: #FFFFFF;\n",
              "    }\n",
              "  </style>\n",
              "\n",
              "      <script>\n",
              "        const buttonEl =\n",
              "          document.querySelector('#df-a48da8a5-7fce-4937-bd56-07c2f7d450c4 button.colab-df-convert');\n",
              "        buttonEl.style.display =\n",
              "          google.colab.kernel.accessAllowed ? 'block' : 'none';\n",
              "\n",
              "        async function convertToInteractive(key) {\n",
              "          const element = document.querySelector('#df-a48da8a5-7fce-4937-bd56-07c2f7d450c4');\n",
              "          const dataTable =\n",
              "            await google.colab.kernel.invokeFunction('convertToInteractive',\n",
              "                                                     [key], {});\n",
              "          if (!dataTable) return;\n",
              "\n",
              "          const docLinkHtml = 'Like what you see? Visit the ' +\n",
              "            '<a target=\"_blank\" href=https://colab.research.google.com/notebooks/data_table.ipynb>data table notebook</a>'\n",
              "            + ' to learn more about interactive tables.';\n",
              "          element.innerHTML = '';\n",
              "          dataTable['output_type'] = 'display_data';\n",
              "          await google.colab.output.renderOutput(dataTable, element);\n",
              "          const docLink = document.createElement('div');\n",
              "          docLink.innerHTML = docLinkHtml;\n",
              "          element.appendChild(docLink);\n",
              "        }\n",
              "      </script>\n",
              "    </div>\n",
              "  </div>\n",
              "  "
            ],
            "text/plain": [
              "             cc_num           amt  ...    merch_long      is_fraud\n",
              "count  1.296675e+06  1.296675e+06  ...  1.296675e+06  1.296675e+06\n",
              "mean   4.171920e+17  7.035104e+01  ... -9.022646e+01  5.788652e-03\n",
              "std    1.308806e+18  1.603160e+02  ...  1.377109e+01  7.586269e-02\n",
              "min    6.041621e+10  1.000000e+00  ... -1.666712e+02  0.000000e+00\n",
              "25%    1.800429e+14  9.650000e+00  ... -9.689728e+01  0.000000e+00\n",
              "50%    3.521417e+15  4.752000e+01  ... -8.743839e+01  0.000000e+00\n",
              "75%    4.642255e+15  8.314000e+01  ... -8.023680e+01  0.000000e+00\n",
              "max    4.992346e+18  2.894890e+04  ... -6.695090e+01  1.000000e+00\n",
              "\n",
              "[8 rows x 10 columns]"
            ]
          },
          "metadata": {},
          "execution_count": 11
        }
      ]
    },
    {
      "cell_type": "code",
      "source": [
        "corrmat = train.corr()\n",
        "f, ax = plt.subplots(figsize = (12, 9))\n",
        "sns.heatmap(corrmat, vmax = .8, square = True)"
      ],
      "metadata": {
        "colab": {
          "base_uri": "https://localhost:8080/",
          "height": 606
        },
        "id": "LwBx9YhswhKk",
        "outputId": "e3f4104d-0da2-4fe3-88a4-cc945abd770a"
      },
      "execution_count": 12,
      "outputs": [
        {
          "output_type": "execute_result",
          "data": {
            "text/plain": [
              "<matplotlib.axes._subplots.AxesSubplot at 0x7f278c99d310>"
            ]
          },
          "metadata": {},
          "execution_count": 12
        },
        {
          "output_type": "display_data",
          "data": {
            "image/png": "[encoded data removed]",
            "text/plain": [
              "<Figure size 864x648 with 2 Axes>"
            ]
          },
          "metadata": {
            "needs_background": "light"
          }
        }
      ]
    },
    {
      "cell_type": "markdown",
      "source": [
        "La variable que más correlación tiene respecto a si es fraude o no es el monto de la transacción."
      ],
      "metadata": {
        "id": "nQgTir3ghIpd"
      }
    },
    {
      "cell_type": "code",
      "source": [
        "#Analizar variable categóricas \n",
        "plt.figure(figsize=(20,6))\n",
        "plt.subplot(1,3,1)\n",
        "train['gender'].value_counts().plot.bar();\n",
        "plt.subplot(1,3,2)\n",
        "train['state'].value_counts().plot.bar();\n",
        "plt.subplot(1,3,3)\n",
        "train['category'].value_counts().plot.bar();"
      ],
      "metadata": {
        "colab": {
          "base_uri": "https://localhost:8080/",
          "height": 430
        },
        "id": "Hfm_QsjKzD1C",
        "outputId": "4b343909-f182-4492-b72d-7ecb624626b5"
      },
      "execution_count": 13,
      "outputs": [
        {
          "output_type": "display_data",
          "data": {
            "image/png": "[encoded data removed]",
            "text/plain": [
              "<Figure size 1440x432 with 3 Axes>"
            ]
          },
          "metadata": {
            "needs_background": "light"
          }
        }
      ]
    },
    {
      "cell_type": "code",
      "source": [
        "sns.boxplot(x='is_fraud',y='amt', data=train)"
      ],
      "metadata": {
        "colab": {
          "base_uri": "https://localhost:8080/",
          "height": 299
        },
        "id": "3X3s3gM3Z6dK",
        "outputId": "8bf2da1f-e1f7-4728-9540-09abc5bfacb2"
      },
      "execution_count": 15,
      "outputs": [
        {
          "output_type": "execute_result",
          "data": {
            "text/plain": [
              "<matplotlib.axes._subplots.AxesSubplot at 0x7f278c687590>"
            ]
          },
          "metadata": {},
          "execution_count": 15
        },
        {
          "output_type": "display_data",
          "data": {
            "image/png": "[encoded data removed]",
            "text/plain": [
              "<Figure size 432x288 with 1 Axes>"
            ]
          },
          "metadata": {
            "needs_background": "light"
          }
        }
      ]
    },
    {
      "cell_type": "code",
      "source": [
        "sns.kdeplot(\n",
        "   data=train, x=\"amt\", hue=\"is_fraud\",\n",
        "   fill=True, common_norm=False, palette=\"husl\",\n",
        "   alpha=.5, linewidth=0\n",
        ")"
      ],
      "metadata": {
        "colab": {
          "base_uri": "https://localhost:8080/",
          "height": 296
        },
        "id": "8vFHKgtUJiPu",
        "outputId": "8ea8d595-e60f-4211-8b82-53ff5549456a"
      },
      "execution_count": 17,
      "outputs": [
        {
          "output_type": "execute_result",
          "data": {
            "text/plain": [
              "<matplotlib.axes._subplots.AxesSubplot at 0x7f278c682250>"
            ]
          },
          "metadata": {},
          "execution_count": 17
        },
        {
          "output_type": "display_data",
          "data": {
            "image/png": "[encoded data removed]",
            "text/plain": [
              "<Figure size 432x288 with 1 Axes>"
            ]
          },
          "metadata": {
            "needs_background": "light"
          }
        }
      ]
    },
    {
      "cell_type": "code",
      "source": [
        "sns.barplot(y='category',x='amt',data=train) \n",
        "plt.xticks(rotation=45)\n",
        "plt.title('Cantidad de transacción por categoria',fontsize=18);"
      ],
      "metadata": {
        "colab": {
          "base_uri": "https://localhost:8080/",
          "height": 310
        },
        "id": "KJheJppSJ-8O",
        "outputId": "b8cac140-7f58-4642-89bd-2d1762fb57a2"
      },
      "execution_count": 19,
      "outputs": [
        {
          "output_type": "display_data",
          "data": {
            "image/png": "[encoded data removed]",
            "text/plain": [
              "<Figure size 432x288 with 1 Axes>"
            ]
          },
          "metadata": {
            "needs_background": "light"
          }
        }
      ]
    },
    {
      "cell_type": "code",
      "source": [
        "#Código para transformar la columna que contiene fechas en datatime\n",
        "train['trans_date_trans_time'] = pd.to_datetime(train['trans_date_trans_time'])\n",
        "#Obtener la hora de la transacción\n",
        "train['trans_hour'] = train['trans_date_trans_time'].dt.hour\n",
        "#Obtener el día de la transacción\n",
        "train['day'] = train['trans_date_trans_time'].dt.day_name()\n",
        "#Obtener el mes de la transacción\n",
        "train['month'] = train['trans_date_trans_time'].dt.to_period('M')"
      ],
      "metadata": {
        "id": "7G0r0is2KmTv"
      },
      "execution_count": 25,
      "outputs": []
    },
    {
      "cell_type": "code",
      "source": [
        "train.groupby(['month','day'])['amt'].sum().unstack()"
      ],
      "metadata": {
        "colab": {
          "base_uri": "https://localhost:8080/",
          "height": 638
        },
        "id": "mRc2BUZROUru",
        "outputId": "c0865282-1c6a-4d9f-ece5-d624d0039791"
      },
      "execution_count": 26,
      "outputs": [
        {
          "output_type": "execute_result",
          "data": {
            "text/html": [
              "\n",
              "  <div id=\"df-0a4ff968-97dd-4af6-9189-12fbe3f61848\">\n",
              "    <div class=\"colab-df-container\">\n",
              "      <div>\n",
              "<style scoped>\n",
              "    .dataframe tbody tr th:only-of-type {\n",
              "        vertical-align: middle;\n",
              "    }\n",
              "\n",
              "    .dataframe tbody tr th {\n",
              "        vertical-align: top;\n",
              "    }\n",
              "\n",
              "    .dataframe thead th {\n",
              "        text-align: right;\n",
              "    }\n",
              "</style>\n",
              "<table border=\"1\" class=\"dataframe\">\n",
              "  <thead>\n",
              "    <tr style=\"text-align: right;\">\n",
              "      <th>day</th>\n",
              "      <th>Friday</th>\n",
              "      <th>Monday</th>\n",
              "      <th>Saturday</th>\n",
              "      <th>Sunday</th>\n",
              "      <th>Thursday</th>\n",
              "      <th>Tuesday</th>\n",
              "      <th>Wednesday</th>\n",
              "    </tr>\n",
              "    <tr>\n",
              "      <th>month</th>\n",
              "      <th></th>\n",
              "      <th></th>\n",
              "      <th></th>\n",
              "      <th></th>\n",
              "      <th></th>\n",
              "      <th></th>\n",
              "      <th></th>\n",
              "    </tr>\n",
              "  </thead>\n",
              "  <tbody>\n",
              "    <tr>\n",
              "      <th>2019-01</th>\n",
              "      <td>398342.57</td>\n",
              "      <td>696851.52</td>\n",
              "      <td>401561.07</td>\n",
              "      <td>575791.22</td>\n",
              "      <td>438500.32</td>\n",
              "      <td>842453.52</td>\n",
              "      <td>406249.81</td>\n",
              "    </tr>\n",
              "    <tr>\n",
              "      <th>2019-02</th>\n",
              "      <td>407576.78</td>\n",
              "      <td>692221.38</td>\n",
              "      <td>406160.96</td>\n",
              "      <td>575004.41</td>\n",
              "      <td>513225.07</td>\n",
              "      <td>674438.49</td>\n",
              "      <td>336035.14</td>\n",
              "    </tr>\n",
              "    <tr>\n",
              "      <th>2019-03</th>\n",
              "      <td>678094.62</td>\n",
              "      <td>879135.01</td>\n",
              "      <td>941626.58</td>\n",
              "      <td>1089343.71</td>\n",
              "      <td>535615.13</td>\n",
              "      <td>434964.78</td>\n",
              "      <td>469106.57</td>\n",
              "    </tr>\n",
              "    <tr>\n",
              "      <th>2019-04</th>\n",
              "      <td>547174.77</td>\n",
              "      <td>1051992.38</td>\n",
              "      <td>764425.21</td>\n",
              "      <td>863378.01</td>\n",
              "      <td>528548.96</td>\n",
              "      <td>519781.61</td>\n",
              "      <td>486203.64</td>\n",
              "    </tr>\n",
              "    <tr>\n",
              "      <th>2019-05</th>\n",
              "      <td>682109.19</td>\n",
              "      <td>922441.46</td>\n",
              "      <td>773928.15</td>\n",
              "      <td>922868.88</td>\n",
              "      <td>693634.46</td>\n",
              "      <td>447227.11</td>\n",
              "      <td>618694.07</td>\n",
              "    </tr>\n",
              "    <tr>\n",
              "      <th>2019-06</th>\n",
              "      <td>692038.69</td>\n",
              "      <td>1084410.86</td>\n",
              "      <td>1188398.53</td>\n",
              "      <td>1372820.74</td>\n",
              "      <td>624709.18</td>\n",
              "      <td>510114.76</td>\n",
              "      <td>563904.66</td>\n",
              "    </tr>\n",
              "    <tr>\n",
              "      <th>2019-07</th>\n",
              "      <td>646571.22</td>\n",
              "      <td>1328726.40</td>\n",
              "      <td>932584.12</td>\n",
              "      <td>1121351.26</td>\n",
              "      <td>673522.37</td>\n",
              "      <td>634027.95</td>\n",
              "      <td>707243.42</td>\n",
              "    </tr>\n",
              "    <tr>\n",
              "      <th>2019-08</th>\n",
              "      <td>828168.62</td>\n",
              "      <td>1082355.16</td>\n",
              "      <td>1165042.42</td>\n",
              "      <td>1105472.22</td>\n",
              "      <td>788357.10</td>\n",
              "      <td>505984.32</td>\n",
              "      <td>571908.81</td>\n",
              "    </tr>\n",
              "    <tr>\n",
              "      <th>2019-09</th>\n",
              "      <td>531398.20</td>\n",
              "      <td>1081122.62</td>\n",
              "      <td>774248.15</td>\n",
              "      <td>1144036.59</td>\n",
              "      <td>503653.78</td>\n",
              "      <td>420987.13</td>\n",
              "      <td>494387.95</td>\n",
              "    </tr>\n",
              "    <tr>\n",
              "      <th>2019-10</th>\n",
              "      <td>533699.91</td>\n",
              "      <td>860883.94</td>\n",
              "      <td>770291.01</td>\n",
              "      <td>880991.06</td>\n",
              "      <td>693759.48</td>\n",
              "      <td>511973.20</td>\n",
              "      <td>599668.77</td>\n",
              "    </tr>\n",
              "    <tr>\n",
              "      <th>2019-11</th>\n",
              "      <td>657610.72</td>\n",
              "      <td>853369.16</td>\n",
              "      <td>1117779.25</td>\n",
              "      <td>886629.55</td>\n",
              "      <td>548871.83</td>\n",
              "      <td>413461.84</td>\n",
              "      <td>445530.24</td>\n",
              "    </tr>\n",
              "    <tr>\n",
              "      <th>2019-12</th>\n",
              "      <td>1001463.66</td>\n",
              "      <td>2184537.67</td>\n",
              "      <td>1527004.31</td>\n",
              "      <td>2173798.62</td>\n",
              "      <td>1063653.01</td>\n",
              "      <td>1043287.66</td>\n",
              "      <td>924434.25</td>\n",
              "    </tr>\n",
              "    <tr>\n",
              "      <th>2020-01</th>\n",
              "      <td>505002.81</td>\n",
              "      <td>643262.58</td>\n",
              "      <td>610252.92</td>\n",
              "      <td>659556.02</td>\n",
              "      <td>491268.84</td>\n",
              "      <td>298690.08</td>\n",
              "      <td>455031.24</td>\n",
              "    </tr>\n",
              "    <tr>\n",
              "      <th>2020-02</th>\n",
              "      <td>421709.81</td>\n",
              "      <td>657432.29</td>\n",
              "      <td>571757.13</td>\n",
              "      <td>676130.78</td>\n",
              "      <td>380687.70</td>\n",
              "      <td>317453.88</td>\n",
              "      <td>344772.46</td>\n",
              "    </tr>\n",
              "    <tr>\n",
              "      <th>2020-03</th>\n",
              "      <td>524055.86</td>\n",
              "      <td>1138056.31</td>\n",
              "      <td>517165.95</td>\n",
              "      <td>968835.51</td>\n",
              "      <td>484409.31</td>\n",
              "      <td>1076398.45</td>\n",
              "      <td>453194.69</td>\n",
              "    </tr>\n",
              "    <tr>\n",
              "      <th>2020-04</th>\n",
              "      <td>531467.54</td>\n",
              "      <td>896956.15</td>\n",
              "      <td>502974.33</td>\n",
              "      <td>750943.37</td>\n",
              "      <td>602478.82</td>\n",
              "      <td>873216.91</td>\n",
              "      <td>533292.66</td>\n",
              "    </tr>\n",
              "    <tr>\n",
              "      <th>2020-05</th>\n",
              "      <td>675802.20</td>\n",
              "      <td>925700.37</td>\n",
              "      <td>728390.37</td>\n",
              "      <td>1049788.35</td>\n",
              "      <td>513118.81</td>\n",
              "      <td>918224.11</td>\n",
              "      <td>433012.61</td>\n",
              "    </tr>\n",
              "    <tr>\n",
              "      <th>2020-06</th>\n",
              "      <td>498682.46</td>\n",
              "      <td>868389.80</td>\n",
              "      <td>489754.23</td>\n",
              "      <td>562549.12</td>\n",
              "      <td>478806.23</td>\n",
              "      <td>801932.04</td>\n",
              "      <td>406870.87</td>\n",
              "    </tr>\n",
              "  </tbody>\n",
              "</table>\n",
              "</div>\n",
              "      <button class=\"colab-df-convert\" onclick=\"convertToInteractive('df-0a4ff968-97dd-4af6-9189-12fbe3f61848')\"\n",
              "              title=\"Convert this dataframe to an interactive table.\"\n",
              "              style=\"display:none;\">\n",
              "        \n",
              "  <svg xmlns=\"http://www.w3.org/2000/svg\" height=\"24px\"viewBox=\"0 0 24 24\"\n",
              "       width=\"24px\">\n",
              "    <path d=\"M0 0h24v24H0V0z\" fill=\"none\"/>\n",
              "    <path d=\"M18.56 5.44l.94 2.06.94-2.06 2.06-.94-2.06-.94-.94-2.06-.94 2.06-2.06.94zm-11 1L8.5 8.5l.94-2.06 2.06-.94-2.06-.94L8.5 2.5l-.94 2.06-2.06.94zm10 10l.94 2.06.94-2.06 2.06-.94-2.06-.94-.94-2.06-.94 2.06-2.06.94z\"/><path d=\"M17.41 7.96l-1.37-1.37c-.4-.4-.92-.59-1.43-.59-.52 0-1.04.2-1.43.59L10.3 9.45l-7.72 7.72c-.78.78-.78 2.05 0 2.83L4 21.41c.39.39.9.59 1.41.59.51 0 1.02-.2 1.41-.59l7.78-7.78 2.81-2.81c.8-.78.8-2.07 0-2.86zM5.41 20L4 18.59l7.72-7.72 1.47 1.35L5.41 20z\"/>\n",
              "  </svg>\n",
              "      </button>\n",
              "      \n",
              "  <style>\n",
              "    .colab-df-container {\n",
              "      display:flex;\n",
              "      flex-wrap:wrap;\n",
              "      gap: 12px;\n",
              "    }\n",
              "\n",
              "    .colab-df-convert {\n",
              "      background-color: #E8F0FE;\n",
              "      border: none;\n",
              "      border-radius: 50%;\n",
              "      cursor: pointer;\n",
              "      display: none;\n",
              "      fill: #1967D2;\n",
              "      height: 32px;\n",
              "      padding: 0 0 0 0;\n",
              "      width: 32px;\n",
              "    }\n",
              "\n",
              "    .colab-df-convert:hover {\n",
              "      background-color: #E2EBFA;\n",
              "      box-shadow: 0px 1px 2px rgba(60, 64, 67, 0.3), 0px 1px 3px 1px rgba(60, 64, 67, 0.15);\n",
              "      fill: #174EA6;\n",
              "    }\n",
              "\n",
              "    [theme=dark] .colab-df-convert {\n",
              "      background-color: #3B4455;\n",
              "      fill: #D2E3FC;\n",
              "    }\n",
              "\n",
              "    [theme=dark] .colab-df-convert:hover {\n",
              "      background-color: #434B5C;\n",
              "      box-shadow: 0px 1px 3px 1px rgba(0, 0, 0, 0.15);\n",
              "      filter: drop-shadow(0px 1px 2px rgba(0, 0, 0, 0.3));\n",
              "      fill: #FFFFFF;\n",
              "    }\n",
              "  </style>\n",
              "\n",
              "      <script>\n",
              "        const buttonEl =\n",
              "          document.querySelector('#df-0a4ff968-97dd-4af6-9189-12fbe3f61848 button.colab-df-convert');\n",
              "        buttonEl.style.display =\n",
              "          google.colab.kernel.accessAllowed ? 'block' : 'none';\n",
              "\n",
              "        async function convertToInteractive(key) {\n",
              "          const element = document.querySelector('#df-0a4ff968-97dd-4af6-9189-12fbe3f61848');\n",
              "          const dataTable =\n",
              "            await google.colab.kernel.invokeFunction('convertToInteractive',\n",
              "                                                     [key], {});\n",
              "          if (!dataTable) return;\n",
              "\n",
              "          const docLinkHtml = 'Like what you see? Visit the ' +\n",
              "            '<a target=\"_blank\" href=https://colab.research.google.com/notebooks/data_table.ipynb>data table notebook</a>'\n",
              "            + ' to learn more about interactive tables.';\n",
              "          element.innerHTML = '';\n",
              "          dataTable['output_type'] = 'display_data';\n",
              "          await google.colab.output.renderOutput(dataTable, element);\n",
              "          const docLink = document.createElement('div');\n",
              "          docLink.innerHTML = docLinkHtml;\n",
              "          element.appendChild(docLink);\n",
              "        }\n",
              "      </script>\n",
              "    </div>\n",
              "  </div>\n",
              "  "
            ],
            "text/plain": [
              "day          Friday      Monday    Saturday  ...    Thursday     Tuesday  Wednesday\n",
              "month                                        ...                                   \n",
              "2019-01   398342.57   696851.52   401561.07  ...   438500.32   842453.52  406249.81\n",
              "2019-02   407576.78   692221.38   406160.96  ...   513225.07   674438.49  336035.14\n",
              "2019-03   678094.62   879135.01   941626.58  ...   535615.13   434964.78  469106.57\n",
              "2019-04   547174.77  1051992.38   764425.21  ...   528548.96   519781.61  486203.64\n",
              "2019-05   682109.19   922441.46   773928.15  ...   693634.46   447227.11  618694.07\n",
              "2019-06   692038.69  1084410.86  1188398.53  ...   624709.18   510114.76  563904.66\n",
              "2019-07   646571.22  1328726.40   932584.12  ...   673522.37   634027.95  707243.42\n",
              "2019-08   828168.62  1082355.16  1165042.42  ...   788357.10   505984.32  571908.81\n",
              "2019-09   531398.20  1081122.62   774248.15  ...   503653.78   420987.13  494387.95\n",
              "2019-10   533699.91   860883.94   770291.01  ...   693759.48   511973.20  599668.77\n",
              "2019-11   657610.72   853369.16  1117779.25  ...   548871.83   413461.84  445530.24\n",
              "2019-12  1001463.66  2184537.67  1527004.31  ...  1063653.01  1043287.66  924434.25\n",
              "2020-01   505002.81   643262.58   610252.92  ...   491268.84   298690.08  455031.24\n",
              "2020-02   421709.81   657432.29   571757.13  ...   380687.70   317453.88  344772.46\n",
              "2020-03   524055.86  1138056.31   517165.95  ...   484409.31  1076398.45  453194.69\n",
              "2020-04   531467.54   896956.15   502974.33  ...   602478.82   873216.91  533292.66\n",
              "2020-05   675802.20   925700.37   728390.37  ...   513118.81   918224.11  433012.61\n",
              "2020-06   498682.46   868389.80   489754.23  ...   478806.23   801932.04  406870.87\n",
              "\n",
              "[18 rows x 7 columns]"
            ]
          },
          "metadata": {},
          "execution_count": 26
        }
      ]
    },
    {
      "cell_type": "code",
      "source": [
        "plt.figure(figsize=(16,6))\n",
        "plt.subplot(1,2,1)\n",
        "train['day'].value_counts().plot.bar();\n",
        "plt.subplot(1,2,2)\n",
        "train['month'].value_counts().plot.bar();"
      ],
      "metadata": {
        "colab": {
          "base_uri": "https://localhost:8080/",
          "height": 422
        },
        "id": "nmr6olmnOoTF",
        "outputId": "82ff8534-30b6-4166-edf1-922b9ba2dc7e"
      },
      "execution_count": 29,
      "outputs": [
        {
          "output_type": "display_data",
          "data": {
            "image/png": "[encoded data removed]",
            "text/plain": [
              "<Figure size 1152x432 with 2 Axes>"
            ]
          },
          "metadata": {
            "needs_background": "light"
          }
        }
      ]
    },
    {
      "cell_type": "markdown",
      "source": [
        "Lunes y domingo son los días donde se hace mayor cantidad de transacciones. Diciembre del 2019 igual fue el mes que mayor cantidad de transacciones tuvo. "
      ],
      "metadata": {
        "id": "_Jf57FzuSCG6"
      }
    },
    {
      "cell_type": "code",
      "source": [
        "plt.figure(figsize = (15,6))\n",
        "sns.barplot(x = 'month', y = 'amt', data = train)"
      ],
      "metadata": {
        "colab": {
          "base_uri": "https://localhost:8080/",
          "height": 405
        },
        "id": "XTZfGn52R228",
        "outputId": "7659b6cd-8108-45e4-f29f-8cbbbbaea3c3"
      },
      "execution_count": 32,
      "outputs": [
        {
          "output_type": "execute_result",
          "data": {
            "text/plain": [
              "<matplotlib.axes._subplots.AxesSubplot at 0x7f278c5c3e10>"
            ]
          },
          "metadata": {},
          "execution_count": 32
        },
        {
          "output_type": "display_data",
          "data": {
            "image/png": "[encoded data removed]",
            "text/plain": [
              "<Figure size 1080x432 with 1 Axes>"
            ]
          },
          "metadata": {
            "needs_background": "light"
          }
        }
      ]
    },
    {
      "cell_type": "code",
      "source": [
        ""
      ],
      "metadata": {
        "id": "bht-F5rySjwO"
      },
      "execution_count": null,
      "outputs": []
    }
  ]
}